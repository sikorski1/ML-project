{
 "cells": [
  {
   "cell_type": "code",
   "execution_count": null,
   "id": "d74496ca",
   "metadata": {},
   "outputs": [],
   "source": [
    "!nvidia-smi"
   ]
  },
  {
   "cell_type": "code",
   "execution_count": null,
   "id": "a8150ac3",
   "metadata": {},
   "outputs": [],
   "source": [
    "!pip install ultralytics"
   ]
  },
  {
   "cell_type": "code",
   "execution_count": null,
   "id": "42e786aa",
   "metadata": {},
   "outputs": [],
   "source": [
    "from ultralytics import YOLO\n",
    "\n",
    "\n",
    "model = YOLO(\"yolov10n.pt\")\n",
    "\n",
    "model.train(data=\"roboflow_data.yaml\", epochs=20, imgsz=640, batch=-1)"
   ]
  },
  {
   "cell_type": "code",
   "execution_count": null,
   "id": "da34d259-bb3b-468e-ba11-92c8816d98a2",
   "metadata": {},
   "outputs": [],
   "source": [
    "from ultralytics import YOLO\n",
    "\n",
    "model = YOLO('runs/detect/train5/weights/last.pt')\n",
    "\n",
    "\n",
    "model.train(resume=True, batch=2, imgsz=1280, data='data.yaml')"
   ]
  },
  {
   "cell_type": "code",
   "execution_count": null,
   "id": "e9a1d84e-f7a4-40f3-94e1-ea44c3300dc8",
   "metadata": {},
   "outputs": [],
   "source": [
    "from ultralytics import YOLO\n",
    "model = YOLO(\"runs/detect/train/weights/best.pt\")\n",
    "results = model(\"datasets/roboflow/test/images/11005_jpg.rf.3a4e88104a5f22297afbb72d5c3fd489.jpg\", save=True, conf=0.25, project=\"runs/detect\",\n",
    "    name=\"predict\",\n",
    "    exist_ok=True )"
   ]
  },
  {
   "cell_type": "code",
   "execution_count": null,
   "id": "83dd86b4-366d-47d2-98f2-17ab5d030fab",
   "metadata": {},
   "outputs": [],
   "source": []
  }
 ],
 "metadata": {
  "kernelspec": {
   "display_name": "Python 3 (ipykernel)",
   "language": "python",
   "name": "python3"
  },
  "language_info": {
   "codemirror_mode": {
    "name": "ipython",
    "version": 3
   },
   "file_extension": ".py",
   "mimetype": "text/x-python",
   "name": "python",
   "nbconvert_exporter": "python",
   "pygments_lexer": "ipython3",
   "version": "3.12.3"
  }
 },
 "nbformat": 4,
 "nbformat_minor": 5
}
